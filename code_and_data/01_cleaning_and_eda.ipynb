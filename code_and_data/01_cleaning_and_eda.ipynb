{
 "cells": [
  {
   "cell_type": "markdown",
   "metadata": {},
   "source": [
    "Data Cleaning & EDA"
   ]
  },
  {
   "cell_type": "markdown",
   "metadata": {},
   "source": [
    "1. Importing libraries and our raw data"
   ]
  },
  {
   "cell_type": "code",
   "execution_count": 1,
   "metadata": {},
   "outputs": [],
   "source": [
    "import pandas as pd \n",
    "import numpy as np\n",
    "\n",
    "import matplotlib.pyplot as plt\n",
    "import seaborn as sns\n"
   ]
  },
  {
   "cell_type": "code",
   "execution_count": 2,
   "metadata": {},
   "outputs": [],
   "source": [
    "advanced_batting = pd.read_csv('datasets/raw_advanced_batting.csv')\n",
    "standard_batting = pd.read_csv('datasets/raw_standard_batting.csv')\n",
    "value_batting = pd.read_csv('datasets/raw_value_batting.csv')"
   ]
  }
 ],
 "metadata": {
  "interpreter": {
   "hash": "c5850c527054a69ebe685c99e300403dab37da56971977c631052f9c27011c38"
  },
  "kernelspec": {
   "display_name": "Python 3.9.12 ('dataenv')",
   "language": "python",
   "name": "python3"
  },
  "language_info": {
   "codemirror_mode": {
    "name": "ipython",
    "version": 3
   },
   "file_extension": ".py",
   "mimetype": "text/x-python",
   "name": "python",
   "nbconvert_exporter": "python",
   "pygments_lexer": "ipython3",
   "version": "3.9.12"
  },
  "orig_nbformat": 4
 },
 "nbformat": 4,
 "nbformat_minor": 2
}
